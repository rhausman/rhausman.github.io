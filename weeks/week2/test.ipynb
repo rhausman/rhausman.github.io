{
 "metadata": {
  "language_info": {
   "codemirror_mode": {
    "name": "ipython",
    "version": 3
   },
   "file_extension": ".py",
   "mimetype": "text/x-python",
   "name": "python",
   "nbconvert_exporter": "python",
   "pygments_lexer": "ipython3",
   "version": "3.8.2-final"
  },
  "orig_nbformat": 2,
  "kernelspec": {
   "name": "python3",
   "display_name": "Python 3.8.2 64-bit ('.venv')",
   "metadata": {
    "interpreter": {
     "hash": "be949f268456e6e13c2032128e2d01af9dc6730471befbe886ba1ff14a145344"
    }
   }
  }
 },
 "nbformat": 4,
 "nbformat_minor": 2,
 "cells": [
  {
   "cell_type": "code",
   "execution_count": 1,
   "metadata": {},
   "outputs": [],
   "source": [
    "%load_ext autoreload\n",
    "%autoreload 2"
   ]
  },
  {
   "cell_type": "code",
   "execution_count": 2,
   "metadata": {},
   "outputs": [],
   "source": [
    "from evaluate_arithmetic import *\n",
    "test_cases = [\"10\", \"-5\", \"1+2\", \"12-8/2\", \"(12-8)/2\", \"3+(12-8)/2\", #\"3/0\"]\n",
    "    \"(1+3) * 6 - 4 / 2\", \"(1+3) * 6 - 4 / 2 - 22\"\n",
    "    ]"
   ]
  },
  {
   "cell_type": "code",
   "execution_count": null,
   "metadata": {},
   "outputs": [],
   "source": []
  },
  {
   "cell_type": "code",
   "execution_count": 61,
   "metadata": {},
   "outputs": [],
   "source": [
    "import numpy as np\n",
    "#import numpy as np\n",
    "with open(\"sudoku.txt\") as ff:\n",
    "    lines = [s.strip() for s in ff.readlines()]\n",
    "    ff.close()\n",
    "labels = lines[0::10]\n",
    "_boards = [lines[:lines.index(label)][-9:] for label in labels[1:]] + [lines[-9:]]\n",
    "boards = []\n",
    "for board in _boards:\n",
    "    new_board = []\n",
    "    for row in board:\n",
    "        new_board.append([int(c) for c in row])\n",
    "    boards.append(np.array(new_board))\n",
    "\n",
    "#boards = [np.array(board) for board in boards]"
   ]
  },
  {
   "cell_type": "code",
   "execution_count": 60,
   "metadata": {},
   "outputs": [],
   "source": [
    "import numpy as np\n",
    "def board_to_A_mat(board):\n",
    "    # cols: [9 cols * 9 vals] + [9 rows x 9 vals] + [9 minisquares x 9 vals] + [9x9 boxes]\n",
    "    base = [[0] * ((9 * 9) * 4)] * (9*9*9)\n",
    "    base = np.array(base)\n",
    "    for r in range(9):\n",
    "        for c in range(9):\n",
    "            if board[r][c] !=0:\n",
    "                box = (int(r/3), int(c/3))\n",
    "                base[0][(9*r) + (9*c) + board[r][c]-1] = 1\n",
    "    \n",
    "    return base"
   ]
  },
  {
   "cell_type": "code",
   "execution_count": 58,
   "metadata": {},
   "outputs": [
    {
     "output_type": "execute_result",
     "data": {
      "text/plain": [
       "int"
      ]
     },
     "metadata": {},
     "execution_count": 58
    }
   ],
   "source": [
    "type(boards[0][0][0])"
   ]
  },
  {
   "cell_type": "code",
   "execution_count": null,
   "metadata": {},
   "outputs": [],
   "source": [
    "def sudoku(board):\n",
    "    "
   ]
  },
  {
   "cell_type": "code",
   "execution_count": 75,
   "metadata": {},
   "outputs": [],
   "source": [
    "all = set([1,2,3,4,5,6,7,8,9])\n",
    "def check_board(board):\n",
    "    if np.array([set(board[i]) - set([0]) != all for i in range(9)]).any():\n",
    "        print(\"rows\", )\n",
    "        return False\n",
    "    if np.array([set(board[:,i])- set([0]) != all for i in range(9)]).any():\n",
    "        return False\n",
    "    for i in [0,3,6]:\n",
    "        for j in [0,3,6]:\n",
    "            if set(board[i:i+3,j:j+3])- set([0]) != all :\n",
    "                return False \n",
    "    return True"
   ]
  },
  {
   "cell_type": "code",
   "execution_count": 76,
   "metadata": {},
   "outputs": [
    {
     "output_type": "stream",
     "name": "stdout",
     "text": [
      "rows\n"
     ]
    },
    {
     "output_type": "execute_result",
     "data": {
      "text/plain": [
       "False"
      ]
     },
     "metadata": {},
     "execution_count": 76
    }
   ],
   "source": [
    "check_board(boards[0])"
   ]
  },
  {
   "cell_type": "code",
   "execution_count": 68,
   "metadata": {},
   "outputs": [
    {
     "output_type": "execute_result",
     "data": {
      "text/plain": [
       "array([[0, 0, 3, 0, 2, 0, 6, 0, 0],\n",
       "       [9, 0, 0, 3, 0, 5, 0, 0, 1],\n",
       "       [0, 0, 1, 8, 0, 6, 4, 0, 0],\n",
       "       [0, 0, 8, 1, 0, 2, 9, 0, 0],\n",
       "       [7, 0, 0, 0, 0, 0, 0, 0, 8],\n",
       "       [0, 0, 6, 7, 0, 8, 2, 0, 0],\n",
       "       [0, 0, 2, 6, 0, 9, 5, 0, 0],\n",
       "       [8, 0, 0, 2, 0, 3, 0, 0, 9],\n",
       "       [0, 0, 5, 0, 1, 0, 3, 0, 0]])"
      ]
     },
     "metadata": {},
     "execution_count": 68
    }
   ],
   "source": [
    "boards[0]"
   ]
  },
  {
   "cell_type": "code",
   "execution_count": null,
   "metadata": {},
   "outputs": [],
   "source": [
    "aaaaaaaaa\n",
    "aaaaaaaaa\n",
    "aaaaaaaaa"
   ]
  }
 ]
}